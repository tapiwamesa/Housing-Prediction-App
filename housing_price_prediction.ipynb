{
 "cells": [
  {
   "cell_type": "markdown",
   "id": "4d09446f-9f69-49a9-9dfa-26b6510e8636",
   "metadata": {},
   "source": [
    "# Housing Price Prediction Model\n",
    "    \n",
    "    \n",
    "    In this project I am going to create a housing price prediction model that predicts the price of houses given a set of parameters like number of beds, bathrooms, area of the house. The data used in the project is the data obtained from the web scrapping project for Zimbabwe Property market. \n",
    "\n",
    "    As mentioned that there are multiple factors affecting the price of the houses it therefore follows that we are adopting the multiple linear regression methond in predicting the price of the properties."
   ]
  },
  {
   "cell_type": "markdown",
   "id": "aca506e5-2fca-4b8e-b50f-bf13aa42e6e8",
   "metadata": {},
   "source": [
    "## Importing libraries"
   ]
  },
  {
   "cell_type": "code",
   "execution_count": 2,
   "id": "12270645-f2e2-43ea-9ea0-20a95d7e0179",
   "metadata": {},
   "outputs": [],
   "source": [
    "# we start by importing the libraries to be used\n",
    "import pandas as pd \n",
    "import matplotlib.pyplot as plt\n",
    "import numpy as np \n",
    "import seaborn as sns\n",
    "%matplotlib inline"
   ]
  },
  {
   "cell_type": "markdown",
   "id": "3e505afa-d046-4d9c-8c61-53923a2dcbd3",
   "metadata": {},
   "source": [
    "<br>"
   ]
  },
  {
   "cell_type": "markdown",
   "id": "7f0b9da8-6dbf-4e1a-a344-d3da71509b27",
   "metadata": {},
   "source": [
    "## Connecting to SQL Server and getting the housing data"
   ]
  },
  {
   "cell_type": "code",
   "execution_count": 3,
   "id": "fc1b7467-caf6-4b4e-9e3e-70621ac1195d",
   "metadata": {
    "scrolled": true
   },
   "outputs": [],
   "source": [
    "#importing the necessary library\n",
    "import pyodbc\n",
    "\n",
    "# defining the connection string\n",
    "server = 'TheNiceComputerThatILove\\\\SQLEXPRESS'  # Double backslashes are needed to escape the backslash\n",
    "database = 'Zim_Property_Data'\n",
    "driver = 'ODBC Driver 17 for SQL Server'  \n",
    "conn_str = f'DRIVER={{{driver}}};SERVER={server};DATABASE={database};Trusted_Connection=yes;'"
   ]
  },
  {
   "cell_type": "code",
   "execution_count": 4,
   "id": "2465fd14-d621-4b53-a8f3-02dc100f6e18",
   "metadata": {
    "scrolled": true
   },
   "outputs": [
    {
     "name": "stderr",
     "output_type": "stream",
     "text": [
      "C:\\Users\\Windows 11\\AppData\\Local\\Temp\\ipykernel_15888\\1915339739.py:6: UserWarning: pandas only supports SQLAlchemy connectable (engine/connection) or database string URI or sqlite3 DBAPI2 connection. Other DBAPI2 objects are not tested. Please consider using SQLAlchemy.\n",
      "  data = pd.read_sql(query, connection_sql) # storing the data in a DataFrame housing_data\n"
     ]
    }
   ],
   "source": [
    "# Establishing a connection to SQL Server\n",
    "connection_sql = pyodbc.connect(conn_str)\n",
    "\n",
    "# loading the data into variable query\n",
    "query = \"SELECT * FROM housing\"\n",
    "data = pd.read_sql(query, connection_sql) # storing the data in a DataFrame housing_data"
   ]
  },
  {
   "cell_type": "code",
   "execution_count": 5,
   "id": "0e162e1b-46bf-48ed-9fca-b0a368413e7d",
   "metadata": {},
   "outputs": [
    {
     "data": {
      "text/html": [
       "<div>\n",
       "<style scoped>\n",
       "    .dataframe tbody tr th:only-of-type {\n",
       "        vertical-align: middle;\n",
       "    }\n",
       "\n",
       "    .dataframe tbody tr th {\n",
       "        vertical-align: top;\n",
       "    }\n",
       "\n",
       "    .dataframe thead th {\n",
       "        text-align: right;\n",
       "    }\n",
       "</style>\n",
       "<table border=\"1\" class=\"dataframe\">\n",
       "  <thead>\n",
       "    <tr style=\"text-align: right;\">\n",
       "      <th></th>\n",
       "      <th>Surburb</th>\n",
       "      <th>Property_type</th>\n",
       "      <th>Price</th>\n",
       "      <th>Beds</th>\n",
       "      <th>Baths</th>\n",
       "      <th>Area_Sqm</th>\n",
       "      <th>Town</th>\n",
       "      <th>Constituency</th>\n",
       "    </tr>\n",
       "  </thead>\n",
       "  <tbody>\n",
       "    <tr>\n",
       "      <th>0</th>\n",
       "      <td>Glen Lorne</td>\n",
       "      <td>House</td>\n",
       "      <td>3200000.0</td>\n",
       "      <td>5</td>\n",
       "      <td>4</td>\n",
       "      <td>56280</td>\n",
       "      <td>harare</td>\n",
       "      <td>harare north</td>\n",
       "    </tr>\n",
       "    <tr>\n",
       "      <th>1</th>\n",
       "      <td>Arlington</td>\n",
       "      <td>Townhouse Complex</td>\n",
       "      <td>125000.0</td>\n",
       "      <td>3</td>\n",
       "      <td>2</td>\n",
       "      <td>324</td>\n",
       "      <td>harare</td>\n",
       "      <td>harare south</td>\n",
       "    </tr>\n",
       "    <tr>\n",
       "      <th>2</th>\n",
       "      <td>Athlone</td>\n",
       "      <td>House</td>\n",
       "      <td>250000.0</td>\n",
       "      <td>3</td>\n",
       "      <td>1</td>\n",
       "      <td>3600</td>\n",
       "      <td>harare</td>\n",
       "      <td>harare east</td>\n",
       "    </tr>\n",
       "    <tr>\n",
       "      <th>3</th>\n",
       "      <td>Banket</td>\n",
       "      <td>House</td>\n",
       "      <td>160000.0</td>\n",
       "      <td>3</td>\n",
       "      <td>2</td>\n",
       "      <td>3092</td>\n",
       "      <td>banket</td>\n",
       "      <td>banket</td>\n",
       "    </tr>\n",
       "    <tr>\n",
       "      <th>4</th>\n",
       "      <td>Ashdown Park</td>\n",
       "      <td>House</td>\n",
       "      <td>55000.0</td>\n",
       "      <td>6</td>\n",
       "      <td>4</td>\n",
       "      <td>500</td>\n",
       "      <td>harare</td>\n",
       "      <td>harare west</td>\n",
       "    </tr>\n",
       "  </tbody>\n",
       "</table>\n",
       "</div>"
      ],
      "text/plain": [
       "        Surburb      Property_type      Price  Beds  Baths  Area_Sqm    Town  \\\n",
       "0    Glen Lorne              House  3200000.0     5      4     56280  harare   \n",
       "1     Arlington  Townhouse Complex   125000.0     3      2       324  harare   \n",
       "2       Athlone              House   250000.0     3      1      3600  harare   \n",
       "3        Banket              House   160000.0     3      2      3092  banket   \n",
       "4  Ashdown Park              House    55000.0     6      4       500  harare   \n",
       "\n",
       "   Constituency  \n",
       "0  harare north  \n",
       "1  harare south  \n",
       "2   harare east  \n",
       "3        banket  \n",
       "4   harare west  "
      ]
     },
     "execution_count": 5,
     "metadata": {},
     "output_type": "execute_result"
    }
   ],
   "source": [
    "#viewing the data\n",
    "data.head()"
   ]
  },
  {
   "cell_type": "markdown",
   "id": "803899f2-81a6-4efe-9c21-63261693e787",
   "metadata": {},
   "source": [
    "<br>"
   ]
  },
  {
   "cell_type": "markdown",
   "id": "41141e5f-1266-4731-8bb2-6e7fe2c52a38",
   "metadata": {},
   "source": [
    "### Data descriptive statistics"
   ]
  },
  {
   "cell_type": "code",
   "execution_count": 6,
   "id": "83d9a83f-e901-4865-8077-688ad168364b",
   "metadata": {},
   "outputs": [
    {
     "name": "stdout",
     "output_type": "stream",
     "text": [
      "<class 'pandas.core.frame.DataFrame'>\n",
      "RangeIndex: 3017 entries, 0 to 3016\n",
      "Data columns (total 8 columns):\n",
      " #   Column         Non-Null Count  Dtype  \n",
      "---  ------         --------------  -----  \n",
      " 0   Surburb        3017 non-null   object \n",
      " 1   Property_type  3017 non-null   object \n",
      " 2   Price          3017 non-null   float64\n",
      " 3   Beds           3017 non-null   int64  \n",
      " 4   Baths          3017 non-null   int64  \n",
      " 5   Area_Sqm       3017 non-null   int64  \n",
      " 6   Town           3017 non-null   object \n",
      " 7   Constituency   3017 non-null   object \n",
      "dtypes: float64(1), int64(3), object(4)\n",
      "memory usage: 188.7+ KB\n"
     ]
    }
   ],
   "source": [
    "data.info()"
   ]
  },
  {
   "cell_type": "code",
   "execution_count": 7,
   "id": "fe23fb1a-2820-4c43-b9bc-9d31bcab2a02",
   "metadata": {},
   "outputs": [
    {
     "data": {
      "text/html": [
       "<div>\n",
       "<style scoped>\n",
       "    .dataframe tbody tr th:only-of-type {\n",
       "        vertical-align: middle;\n",
       "    }\n",
       "\n",
       "    .dataframe tbody tr th {\n",
       "        vertical-align: top;\n",
       "    }\n",
       "\n",
       "    .dataframe thead th {\n",
       "        text-align: right;\n",
       "    }\n",
       "</style>\n",
       "<table border=\"1\" class=\"dataframe\">\n",
       "  <thead>\n",
       "    <tr style=\"text-align: right;\">\n",
       "      <th></th>\n",
       "      <th>count</th>\n",
       "      <th>mean</th>\n",
       "      <th>std</th>\n",
       "      <th>min</th>\n",
       "      <th>25%</th>\n",
       "      <th>50%</th>\n",
       "      <th>75%</th>\n",
       "      <th>max</th>\n",
       "    </tr>\n",
       "  </thead>\n",
       "  <tbody>\n",
       "    <tr>\n",
       "      <th>Price</th>\n",
       "      <td>3017.0</td>\n",
       "      <td>236661.242625</td>\n",
       "      <td>317330.234500</td>\n",
       "      <td>15500.0</td>\n",
       "      <td>65000.0</td>\n",
       "      <td>130000.0</td>\n",
       "      <td>300000.0</td>\n",
       "      <td>3500000.0</td>\n",
       "    </tr>\n",
       "    <tr>\n",
       "      <th>Beds</th>\n",
       "      <td>3017.0</td>\n",
       "      <td>3.843885</td>\n",
       "      <td>1.207496</td>\n",
       "      <td>1.0</td>\n",
       "      <td>3.0</td>\n",
       "      <td>4.0</td>\n",
       "      <td>4.0</td>\n",
       "      <td>9.0</td>\n",
       "    </tr>\n",
       "    <tr>\n",
       "      <th>Baths</th>\n",
       "      <td>3017.0</td>\n",
       "      <td>1.915810</td>\n",
       "      <td>1.281191</td>\n",
       "      <td>1.0</td>\n",
       "      <td>1.0</td>\n",
       "      <td>2.0</td>\n",
       "      <td>2.0</td>\n",
       "      <td>9.0</td>\n",
       "    </tr>\n",
       "    <tr>\n",
       "      <th>Area_Sqm</th>\n",
       "      <td>3017.0</td>\n",
       "      <td>2830.377527</td>\n",
       "      <td>6991.232742</td>\n",
       "      <td>100.0</td>\n",
       "      <td>400.0</td>\n",
       "      <td>1080.0</td>\n",
       "      <td>3315.0</td>\n",
       "      <td>129499.0</td>\n",
       "    </tr>\n",
       "  </tbody>\n",
       "</table>\n",
       "</div>"
      ],
      "text/plain": [
       "           count           mean            std      min      25%       50%  \\\n",
       "Price     3017.0  236661.242625  317330.234500  15500.0  65000.0  130000.0   \n",
       "Beds      3017.0       3.843885       1.207496      1.0      3.0       4.0   \n",
       "Baths     3017.0       1.915810       1.281191      1.0      1.0       2.0   \n",
       "Area_Sqm  3017.0    2830.377527    6991.232742    100.0    400.0    1080.0   \n",
       "\n",
       "               75%        max  \n",
       "Price     300000.0  3500000.0  \n",
       "Beds           4.0        9.0  \n",
       "Baths          2.0        9.0  \n",
       "Area_Sqm    3315.0   129499.0  "
      ]
     },
     "execution_count": 7,
     "metadata": {},
     "output_type": "execute_result"
    }
   ],
   "source": [
    "data.describe().T"
   ]
  },
  {
   "cell_type": "markdown",
   "id": "04f36fcf-5034-49d2-8aac-d3c435e21d75",
   "metadata": {},
   "source": [
    "    We are going to be using the 4 columns in the prediction model, thus Price as the dependent variable or the Y values and a set of Beds, Baths and Area_Sqm as the X values or independent variables"
   ]
  },
  {
   "cell_type": "code",
   "execution_count": 8,
   "id": "f5e9c4d0-b18e-42f3-b45c-29dcc79e4a76",
   "metadata": {},
   "outputs": [
    {
     "data": {
      "text/plain": [
       "Town\n",
       "harare         2077\n",
       "bulawayo        315\n",
       "chitungwiza     157\n",
       "ruwa            116\n",
       "norton           49\n",
       "Name: count, dtype: int64"
      ]
     },
     "execution_count": 8,
     "metadata": {},
     "output_type": "execute_result"
    }
   ],
   "source": [
    "#Viewing property composition by town \n",
    "data['Town'].value_counts().head()"
   ]
  },
  {
   "cell_type": "markdown",
   "id": "61d34985-4f97-4463-bc01-564028220832",
   "metadata": {},
   "source": [
    "    For the most houses in towns Harare has the most with 2077 properties, in our modelling we can start with building a model for Harare then move to other towns."
   ]
  },
  {
   "cell_type": "markdown",
   "id": "8e87bfb7-4b2f-4140-a8fa-d88a0f488944",
   "metadata": {},
   "source": [
    "<br>"
   ]
  },
  {
   "cell_type": "markdown",
   "id": "2bf96bd3-3524-422c-b1ff-dc74af296875",
   "metadata": {},
   "source": [
    "## Harare Housing Data\n",
    "    \n",
    "    We start off by carrying out some analysis to understand the Harare housing landscape."
   ]
  },
  {
   "cell_type": "code",
   "execution_count": 9,
   "id": "3fcecbe7-35a8-474a-a5c9-208b059cb3e5",
   "metadata": {},
   "outputs": [],
   "source": [
    "# splitting the data where town is Harare into the DataFrame harare\n",
    "harare = data[data['Town'] == 'harare']"
   ]
  },
  {
   "cell_type": "code",
   "execution_count": 10,
   "id": "d4276abb-65e8-4b07-a223-efd128e36c57",
   "metadata": {},
   "outputs": [
    {
     "data": {
      "text/html": [
       "<div>\n",
       "<style scoped>\n",
       "    .dataframe tbody tr th:only-of-type {\n",
       "        vertical-align: middle;\n",
       "    }\n",
       "\n",
       "    .dataframe tbody tr th {\n",
       "        vertical-align: top;\n",
       "    }\n",
       "\n",
       "    .dataframe thead th {\n",
       "        text-align: right;\n",
       "    }\n",
       "</style>\n",
       "<table border=\"1\" class=\"dataframe\">\n",
       "  <thead>\n",
       "    <tr style=\"text-align: right;\">\n",
       "      <th></th>\n",
       "      <th>Surburb</th>\n",
       "      <th>Property_type</th>\n",
       "      <th>Price</th>\n",
       "      <th>Beds</th>\n",
       "      <th>Baths</th>\n",
       "      <th>Area_Sqm</th>\n",
       "      <th>Town</th>\n",
       "      <th>Constituency</th>\n",
       "    </tr>\n",
       "  </thead>\n",
       "  <tbody>\n",
       "    <tr>\n",
       "      <th>0</th>\n",
       "      <td>Glen Lorne</td>\n",
       "      <td>House</td>\n",
       "      <td>3200000.0</td>\n",
       "      <td>5</td>\n",
       "      <td>4</td>\n",
       "      <td>56280</td>\n",
       "      <td>harare</td>\n",
       "      <td>harare north</td>\n",
       "    </tr>\n",
       "    <tr>\n",
       "      <th>1</th>\n",
       "      <td>Arlington</td>\n",
       "      <td>Townhouse Complex</td>\n",
       "      <td>125000.0</td>\n",
       "      <td>3</td>\n",
       "      <td>2</td>\n",
       "      <td>324</td>\n",
       "      <td>harare</td>\n",
       "      <td>harare south</td>\n",
       "    </tr>\n",
       "    <tr>\n",
       "      <th>2</th>\n",
       "      <td>Athlone</td>\n",
       "      <td>House</td>\n",
       "      <td>250000.0</td>\n",
       "      <td>3</td>\n",
       "      <td>1</td>\n",
       "      <td>3600</td>\n",
       "      <td>harare</td>\n",
       "      <td>harare east</td>\n",
       "    </tr>\n",
       "    <tr>\n",
       "      <th>4</th>\n",
       "      <td>Ashdown Park</td>\n",
       "      <td>House</td>\n",
       "      <td>55000.0</td>\n",
       "      <td>6</td>\n",
       "      <td>4</td>\n",
       "      <td>500</td>\n",
       "      <td>harare</td>\n",
       "      <td>harare west</td>\n",
       "    </tr>\n",
       "    <tr>\n",
       "      <th>6</th>\n",
       "      <td>Chisipite</td>\n",
       "      <td>House</td>\n",
       "      <td>475000.0</td>\n",
       "      <td>3</td>\n",
       "      <td>2</td>\n",
       "      <td>4070</td>\n",
       "      <td>harare</td>\n",
       "      <td>harare north</td>\n",
       "    </tr>\n",
       "  </tbody>\n",
       "</table>\n",
       "</div>"
      ],
      "text/plain": [
       "        Surburb      Property_type      Price  Beds  Baths  Area_Sqm    Town  \\\n",
       "0    Glen Lorne              House  3200000.0     5      4     56280  harare   \n",
       "1     Arlington  Townhouse Complex   125000.0     3      2       324  harare   \n",
       "2       Athlone              House   250000.0     3      1      3600  harare   \n",
       "4  Ashdown Park              House    55000.0     6      4       500  harare   \n",
       "6     Chisipite              House   475000.0     3      2      4070  harare   \n",
       "\n",
       "   Constituency  \n",
       "0  harare north  \n",
       "1  harare south  \n",
       "2   harare east  \n",
       "4   harare west  \n",
       "6  harare north  "
      ]
     },
     "execution_count": 10,
     "metadata": {},
     "output_type": "execute_result"
    }
   ],
   "source": [
    "harare.head()"
   ]
  },
  {
   "cell_type": "code",
   "execution_count": 11,
   "id": "6f11c623-4182-41f6-a3b4-3923a10f3113",
   "metadata": {},
   "outputs": [
    {
     "data": {
      "text/html": [
       "<div>\n",
       "<style scoped>\n",
       "    .dataframe tbody tr th:only-of-type {\n",
       "        vertical-align: middle;\n",
       "    }\n",
       "\n",
       "    .dataframe tbody tr th {\n",
       "        vertical-align: top;\n",
       "    }\n",
       "\n",
       "    .dataframe thead th {\n",
       "        text-align: right;\n",
       "    }\n",
       "</style>\n",
       "<table border=\"1\" class=\"dataframe\">\n",
       "  <thead>\n",
       "    <tr style=\"text-align: right;\">\n",
       "      <th></th>\n",
       "      <th>count</th>\n",
       "      <th>mean</th>\n",
       "      <th>std</th>\n",
       "      <th>min</th>\n",
       "      <th>25%</th>\n",
       "      <th>50%</th>\n",
       "      <th>75%</th>\n",
       "      <th>max</th>\n",
       "    </tr>\n",
       "  </thead>\n",
       "  <tbody>\n",
       "    <tr>\n",
       "      <th>Price</th>\n",
       "      <td>2077.0</td>\n",
       "      <td>289095.551276</td>\n",
       "      <td>358264.625694</td>\n",
       "      <td>18000.0</td>\n",
       "      <td>85000.0</td>\n",
       "      <td>160000.0</td>\n",
       "      <td>370000.0</td>\n",
       "      <td>3500000.0</td>\n",
       "    </tr>\n",
       "    <tr>\n",
       "      <th>Beds</th>\n",
       "      <td>2077.0</td>\n",
       "      <td>3.936928</td>\n",
       "      <td>1.244784</td>\n",
       "      <td>1.0</td>\n",
       "      <td>3.0</td>\n",
       "      <td>4.0</td>\n",
       "      <td>4.0</td>\n",
       "      <td>9.0</td>\n",
       "    </tr>\n",
       "    <tr>\n",
       "      <th>Baths</th>\n",
       "      <td>2077.0</td>\n",
       "      <td>2.021184</td>\n",
       "      <td>1.364826</td>\n",
       "      <td>1.0</td>\n",
       "      <td>1.0</td>\n",
       "      <td>2.0</td>\n",
       "      <td>2.0</td>\n",
       "      <td>9.0</td>\n",
       "    </tr>\n",
       "    <tr>\n",
       "      <th>Area_Sqm</th>\n",
       "      <td>2077.0</td>\n",
       "      <td>2715.121810</td>\n",
       "      <td>5574.025328</td>\n",
       "      <td>100.0</td>\n",
       "      <td>460.0</td>\n",
       "      <td>1200.0</td>\n",
       "      <td>3700.0</td>\n",
       "      <td>70820.0</td>\n",
       "    </tr>\n",
       "  </tbody>\n",
       "</table>\n",
       "</div>"
      ],
      "text/plain": [
       "           count           mean            std      min      25%       50%  \\\n",
       "Price     2077.0  289095.551276  358264.625694  18000.0  85000.0  160000.0   \n",
       "Beds      2077.0       3.936928       1.244784      1.0      3.0       4.0   \n",
       "Baths     2077.0       2.021184       1.364826      1.0      1.0       2.0   \n",
       "Area_Sqm  2077.0    2715.121810    5574.025328    100.0    460.0    1200.0   \n",
       "\n",
       "               75%        max  \n",
       "Price     370000.0  3500000.0  \n",
       "Beds           4.0        9.0  \n",
       "Baths          2.0        9.0  \n",
       "Area_Sqm    3700.0    70820.0  "
      ]
     },
     "execution_count": 11,
     "metadata": {},
     "output_type": "execute_result"
    }
   ],
   "source": [
    "harare.describe().T"
   ]
  },
  {
   "cell_type": "markdown",
   "id": "51d2a5f2-78a0-441d-9e42-8fcdb2dd27ba",
   "metadata": {},
   "source": [
    "    In Harare the average house sells for US$289,096, with an average 3,9 beds and 2 bathrooms and spanning over on 2715 square meters of land. The most expensive house in Harare goes for US$3,5mil and the most affordable is US$18,000. \n",
    "\n",
    "    From the descriptive statistics the 75% percentile tells us that 75% of the prices are below US$370,000 with only a quarter being above the US$370,000 price mark. The composition of affluent properties is quite decend and acceptibe for our analysis as it does skew the data towards exorbotant house prices."
   ]
  },
  {
   "cell_type": "markdown",
   "id": "6a1422ac-019f-487a-8f05-2baf2d80decb",
   "metadata": {},
   "source": [
    "##### Plotting the Price vs Beds"
   ]
  },
  {
   "cell_type": "code",
   "execution_count": 12,
   "id": "6d02e552-e4a9-41d6-92fd-13a3ba65a05d",
   "metadata": {},
   "outputs": [
    {
     "data": {
      "text/plain": [
       "Text(0.5, 1.0, 'Price vs Beds')"
      ]
     },
     "execution_count": 12,
     "metadata": {},
     "output_type": "execute_result"
    },
    {
     "data": {
      "image/png": "[encoded data removed]",
      "text/plain": [
       "<Figure size 640x480 with 1 Axes>"
      ]
     },
     "metadata": {},
     "output_type": "display_data"
    }
   ],
   "source": [
    "plt.scatter(harare.Beds.values, harare.Price.values)\n",
    "plt.title('Price vs Beds')"
   ]
  },
  {
   "cell_type": "markdown",
   "id": "898b9d1a-4add-4952-8f0b-d0d505df385e",
   "metadata": {},
   "source": [
    "    Harare propertis are largely concertrated between 3 bed and 7 bed properties. The most expensive property has 4 bedrooms, for between 1 to 7 bed properties there is a share of affordable properties under US$100,000."
   ]
  },
  {
   "cell_type": "markdown",
   "id": "9396f1a2-1677-4059-986e-6c23466267f9",
   "metadata": {},
   "source": [
    "##### Plotting Price vs Bathrooms"
   ]
  },
  {
   "cell_type": "code",
   "execution_count": 14,
   "id": "08585f5e-d1a9-44fd-ae91-ec36776f2826",
   "metadata": {},
   "outputs": [
    {
     "data": {
      "text/plain": [
       "Text(0.5, 1.0, 'Price vs Bathrooms')"
      ]
     },
     "execution_count": 14,
     "metadata": {},
     "output_type": "execute_result"
    },
    {
     "data": {
      "image/png": "[encoded data removed]",
      "text/plain": [
       "<Figure size 640x480 with 1 Axes>"
      ]
     },
     "metadata": {},
     "output_type": "display_data"
    }
   ],
   "source": [
    "plt.scatter(harare.Baths.values, harare.Price.values)\n",
    "plt.title('Price vs Bathrooms')"
   ]
  },
  {
   "cell_type": "markdown",
   "id": "8c42b9a7-c63b-4d12-b84c-bd6a2b69f318",
   "metadata": {},
   "source": [
    "    There is more concertation of properties of less than value of US$200,000 with tless than 7 bathrooms in the Harare housing data.A few properties with 8 and 9 bathrooms selling for less than US$200,000. Above the US$200,000 price mark are just but a few properties between US$300,000 and US$350,000 price range. The most pricey properties all have less than 6 bathrooms. \n",
    "\n",
    "    The most expensive property has 1 bathroom lol, this i'm confident that its a typo on data entry on the hosting page."
   ]
  },
  {
   "cell_type": "markdown",
   "id": "b173becf-af7e-4cb8-911a-47c126c9c7c0",
   "metadata": {},
   "source": [
    "##### Plotting Price vs Area"
   ]
  },
  {
   "cell_type": "code",
   "execution_count": 15,
   "id": "e082612f-887d-4aaf-b6a7-1cbf6c307695",
   "metadata": {},
   "outputs": [
    {
     "data": {
      "text/plain": [
       "Text(0.5, 1.0, 'Price vs Area')"
      ]
     },
     "execution_count": 15,
     "metadata": {},
     "output_type": "execute_result"
    },
    {
     "data": {
      "image/png": "[encoded data removed]",
      "text/plain": [
       "<Figure size 640x480 with 1 Axes>"
      ]
     },
     "metadata": {},
     "output_type": "display_data"
    }
   ],
   "source": [
    "plt.scatter(harare.Area_Sqm.values, harare.Price.values)\n",
    "plt.title('Price vs Area')"
   ]
  },
  {
   "cell_type": "markdown",
   "id": "25cce887-5210-4951-b809-e30d95772561",
   "metadata": {},
   "source": [
    "    From the scatter plot above we can observe that the most of the properties are concerntrated within the 0 to 10,000 square meters range and less than US$100,000 price mark. A few outlier points can also be observed in the data however the general position is that as the area increases the price of the property also tends to increase of course under a prescribed threshold."
   ]
  },
  {
   "cell_type": "markdown",
   "id": "1cf9d83c-6bea-4e8a-b372-cf6ea61be7e5",
   "metadata": {},
   "source": [
    "<br>"
   ]
  },
  {
   "cell_type": "markdown",
   "id": "982b42d1-58d7-4852-8296-a0abb99c01a5",
   "metadata": {},
   "source": [
    "### The Multiple Linear Regression Model for the entire housing data"
   ]
  },
  {
   "cell_type": "code",
   "execution_count": 16,
   "id": "500dd446-186c-4420-b0e5-341bd241286b",
   "metadata": {},
   "outputs": [],
   "source": [
    "#Importing the necessary libraries, the linear regression model\n",
    "\n",
    "from sklearn.linear_model import LinearRegression"
   ]
  },
  {
   "cell_type": "code",
   "execution_count": 17,
   "id": "b02af274-0682-49ce-90ae-0d91f398bf8e",
   "metadata": {},
   "outputs": [],
   "source": [
    "# initializing the model\n",
    "reg = LinearRegression()"
   ]
  },
  {
   "cell_type": "code",
   "execution_count": 18,
   "id": "d5b07afd-f522-4efd-9336-b3d0a0085c05",
   "metadata": {},
   "outputs": [],
   "source": [
    "Y = data['Price'].reset_index(drop = True)\n",
    "X = data[['Beds', 'Baths', 'Area_Sqm']].reset_index(drop = True)"
   ]
  },
  {
   "cell_type": "code",
   "execution_count": 19,
   "id": "1864cfa0-1389-4a3c-bb83-bfac59e88ba7",
   "metadata": {},
   "outputs": [],
   "source": [
    "from sklearn.model_selection import train_test_split"
   ]
  },
  {
   "cell_type": "code",
   "execution_count": 20,
   "id": "2fb7216b-f055-4a07-8806-fdb7ad9f6d6c",
   "metadata": {},
   "outputs": [],
   "source": [
    "x_train, x_test, y_train, y_test = train_test_split(X, Y, test_size = 0.10, random_state = 2)"
   ]
  },
  {
   "cell_type": "code",
   "execution_count": 21,
   "id": "21b49b71-a02f-4e06-8c54-d503d3471337",
   "metadata": {},
   "outputs": [
    {
     "data": {
      "text/html": [
       "<style>#sk-container-id-1 {color: black;background-color: white;}#sk-container-id-1 pre{padding: 0;}#sk-container-id-1 div.sk-toggleable {background-color: white;}#sk-container-id-1 label.sk-toggleable__label {cursor: pointer;display: block;width: 100%;margin-bottom: 0;padding: 0.3em;box-sizing: border-box;text-align: center;}#sk-container-id-1 label.sk-toggleable__label-arrow:before {content: \"▸\";float: left;margin-right: 0.25em;color: #696969;}#sk-container-id-1 label.sk-toggleable__label-arrow:hover:before {color: black;}#sk-container-id-1 div.sk-estimator:hover label.sk-toggleable__label-arrow:before {color: black;}#sk-container-id-1 div.sk-toggleable__content {max-height: 0;max-width: 0;overflow: hidden;text-align: left;background-color: #f0f8ff;}#sk-container-id-1 div.sk-toggleable__content pre {margin: 0.2em;color: black;border-radius: 0.25em;background-color: #f0f8ff;}#sk-container-id-1 input.sk-toggleable__control:checked~div.sk-toggleable__content {max-height: 200px;max-width: 100%;overflow: auto;}#sk-container-id-1 input.sk-toggleable__control:checked~label.sk-toggleable__label-arrow:before {content: \"▾\";}#sk-container-id-1 div.sk-estimator input.sk-toggleable__control:checked~label.sk-toggleable__label {background-color: #d4ebff;}#sk-container-id-1 div.sk-label input.sk-toggleable__control:checked~label.sk-toggleable__label {background-color: #d4ebff;}#sk-container-id-1 input.sk-hidden--visually {border: 0;clip: rect(1px 1px 1px 1px);clip: rect(1px, 1px, 1px, 1px);height: 1px;margin: -1px;overflow: hidden;padding: 0;position: absolute;width: 1px;}#sk-container-id-1 div.sk-estimator {font-family: monospace;background-color: #f0f8ff;border: 1px dotted black;border-radius: 0.25em;box-sizing: border-box;margin-bottom: 0.5em;}#sk-container-id-1 div.sk-estimator:hover {background-color: #d4ebff;}#sk-container-id-1 div.sk-parallel-item::after {content: \"\";width: 100%;border-bottom: 1px solid gray;flex-grow: 1;}#sk-container-id-1 div.sk-label:hover label.sk-toggleable__label {background-color: #d4ebff;}#sk-container-id-1 div.sk-serial::before {content: \"\";position: absolute;border-left: 1px solid gray;box-sizing: border-box;top: 0;bottom: 0;left: 50%;z-index: 0;}#sk-container-id-1 div.sk-serial {display: flex;flex-direction: column;align-items: center;background-color: white;padding-right: 0.2em;padding-left: 0.2em;position: relative;}#sk-container-id-1 div.sk-item {position: relative;z-index: 1;}#sk-container-id-1 div.sk-parallel {display: flex;align-items: stretch;justify-content: center;background-color: white;position: relative;}#sk-container-id-1 div.sk-item::before, #sk-container-id-1 div.sk-parallel-item::before {content: \"\";position: absolute;border-left: 1px solid gray;box-sizing: border-box;top: 0;bottom: 0;left: 50%;z-index: -1;}#sk-container-id-1 div.sk-parallel-item {display: flex;flex-direction: column;z-index: 1;position: relative;background-color: white;}#sk-container-id-1 div.sk-parallel-item:first-child::after {align-self: flex-end;width: 50%;}#sk-container-id-1 div.sk-parallel-item:last-child::after {align-self: flex-start;width: 50%;}#sk-container-id-1 div.sk-parallel-item:only-child::after {width: 0;}#sk-container-id-1 div.sk-dashed-wrapped {border: 1px dashed gray;margin: 0 0.4em 0.5em 0.4em;box-sizing: border-box;padding-bottom: 0.4em;background-color: white;}#sk-container-id-1 div.sk-label label {font-family: monospace;font-weight: bold;display: inline-block;line-height: 1.2em;}#sk-container-id-1 div.sk-label-container {text-align: center;}#sk-container-id-1 div.sk-container {/* jupyter's `normalize.less` sets `[hidden] { display: none; }` but bootstrap.min.css set `[hidden] { display: none !important; }` so we also need the `!important` here to be able to override the default hidden behavior on the sphinx rendered scikit-learn.org. See: https://github.com/scikit-learn/scikit-learn/issues/21755 */display: inline-block !important;position: relative;}#sk-container-id-1 div.sk-text-repr-fallback {display: none;}</style><div id=\"sk-container-id-1\" class=\"sk-top-container\"><div class=\"sk-text-repr-fallback\"><pre>LinearRegression()</pre><b>In a Jupyter environment, please rerun this cell to show the HTML representation or trust the notebook. <br />On GitHub, the HTML representation is unable to render, please try loading this page with nbviewer.org.</b></div><div class=\"sk-container\" hidden><div class=\"sk-item\"><div class=\"sk-estimator sk-toggleable\"><input class=\"sk-toggleable__control sk-hidden--visually\" id=\"sk-estimator-id-1\" type=\"checkbox\" checked><label for=\"sk-estimator-id-1\" class=\"sk-toggleable__label sk-toggleable__label-arrow\">LinearRegression</label><div class=\"sk-toggleable__content\"><pre>LinearRegression()</pre></div></div></div></div></div>"
      ],
      "text/plain": [
       "LinearRegression()"
      ]
     },
     "execution_count": 21,
     "metadata": {},
     "output_type": "execute_result"
    }
   ],
   "source": [
    "reg.fit(x_train, y_train)"
   ]
  },
  {
   "cell_type": "code",
   "execution_count": 22,
   "id": "38543ddd-91b1-461f-8ad2-1172b1276a85",
   "metadata": {},
   "outputs": [
    {
     "data": {
      "text/plain": [
       "0.24077432294204903"
      ]
     },
     "execution_count": 22,
     "metadata": {},
     "output_type": "execute_result"
    }
   ],
   "source": [
    "reg.score(x_test, y_test)"
   ]
  },
  {
   "cell_type": "markdown",
   "id": "5ac8fcde-2951-409e-b9be-fa7976c40ec9",
   "metadata": {},
   "source": [
    "    The model predicts 24% of the data correctly, thus the R-square is very low and we cannot adopt this as a useful prediction model.\n",
    "\n",
    "    I am thinking this is caused by the variation due to location that is towns. In the next section I build a model for Harare properties only."
   ]
  },
  {
   "cell_type": "markdown",
   "id": "b303e940-cf81-41fb-ae8f-11ec192b2c61",
   "metadata": {},
   "source": [
    "<br>"
   ]
  },
  {
   "cell_type": "markdown",
   "id": "c91687b0-364e-42c9-809e-df9e8d72f9f3",
   "metadata": {},
   "source": [
    "### Building a model for the town Harare"
   ]
  },
  {
   "cell_type": "code",
   "execution_count": 23,
   "id": "30a31897-1a04-4f20-be34-5b481aa680f2",
   "metadata": {},
   "outputs": [],
   "source": [
    "Y = harare['Price'].reset_index(drop = True)\n",
    "X = harare[['Beds', 'Baths', 'Area_Sqm']].reset_index(drop = True)"
   ]
  },
  {
   "cell_type": "code",
   "execution_count": 24,
   "id": "e936be80-6b58-465d-aa7f-e41ab7ac985e",
   "metadata": {},
   "outputs": [],
   "source": [
    "from sklearn.model_selection import train_test_split"
   ]
  },
  {
   "cell_type": "code",
   "execution_count": 25,
   "id": "f63a8a5d-a3e4-44ea-bdec-742e988b8699",
   "metadata": {},
   "outputs": [],
   "source": [
    "x_train, x_test, y_train, y_test = train_test_split(X, Y, test_size = 0.10, random_state = 2)"
   ]
  },
  {
   "cell_type": "code",
   "execution_count": 26,
   "id": "1e4d85ae-2c27-4936-8b7f-c1e2832f0779",
   "metadata": {},
   "outputs": [
    {
     "data": {
      "text/html": [
       "<style>#sk-container-id-2 {color: black;background-color: white;}#sk-container-id-2 pre{padding: 0;}#sk-container-id-2 div.sk-toggleable {background-color: white;}#sk-container-id-2 label.sk-toggleable__label {cursor: pointer;display: block;width: 100%;margin-bottom: 0;padding: 0.3em;box-sizing: border-box;text-align: center;}#sk-container-id-2 label.sk-toggleable__label-arrow:before {content: \"▸\";float: left;margin-right: 0.25em;color: #696969;}#sk-container-id-2 label.sk-toggleable__label-arrow:hover:before {color: black;}#sk-container-id-2 div.sk-estimator:hover label.sk-toggleable__label-arrow:before {color: black;}#sk-container-id-2 div.sk-toggleable__content {max-height: 0;max-width: 0;overflow: hidden;text-align: left;background-color: #f0f8ff;}#sk-container-id-2 div.sk-toggleable__content pre {margin: 0.2em;color: black;border-radius: 0.25em;background-color: #f0f8ff;}#sk-container-id-2 input.sk-toggleable__control:checked~div.sk-toggleable__content {max-height: 200px;max-width: 100%;overflow: auto;}#sk-container-id-2 input.sk-toggleable__control:checked~label.sk-toggleable__label-arrow:before {content: \"▾\";}#sk-container-id-2 div.sk-estimator input.sk-toggleable__control:checked~label.sk-toggleable__label {background-color: #d4ebff;}#sk-container-id-2 div.sk-label input.sk-toggleable__control:checked~label.sk-toggleable__label {background-color: #d4ebff;}#sk-container-id-2 input.sk-hidden--visually {border: 0;clip: rect(1px 1px 1px 1px);clip: rect(1px, 1px, 1px, 1px);height: 1px;margin: -1px;overflow: hidden;padding: 0;position: absolute;width: 1px;}#sk-container-id-2 div.sk-estimator {font-family: monospace;background-color: #f0f8ff;border: 1px dotted black;border-radius: 0.25em;box-sizing: border-box;margin-bottom: 0.5em;}#sk-container-id-2 div.sk-estimator:hover {background-color: #d4ebff;}#sk-container-id-2 div.sk-parallel-item::after {content: \"\";width: 100%;border-bottom: 1px solid gray;flex-grow: 1;}#sk-container-id-2 div.sk-label:hover label.sk-toggleable__label {background-color: #d4ebff;}#sk-container-id-2 div.sk-serial::before {content: \"\";position: absolute;border-left: 1px solid gray;box-sizing: border-box;top: 0;bottom: 0;left: 50%;z-index: 0;}#sk-container-id-2 div.sk-serial {display: flex;flex-direction: column;align-items: center;background-color: white;padding-right: 0.2em;padding-left: 0.2em;position: relative;}#sk-container-id-2 div.sk-item {position: relative;z-index: 1;}#sk-container-id-2 div.sk-parallel {display: flex;align-items: stretch;justify-content: center;background-color: white;position: relative;}#sk-container-id-2 div.sk-item::before, #sk-container-id-2 div.sk-parallel-item::before {content: \"\";position: absolute;border-left: 1px solid gray;box-sizing: border-box;top: 0;bottom: 0;left: 50%;z-index: -1;}#sk-container-id-2 div.sk-parallel-item {display: flex;flex-direction: column;z-index: 1;position: relative;background-color: white;}#sk-container-id-2 div.sk-parallel-item:first-child::after {align-self: flex-end;width: 50%;}#sk-container-id-2 div.sk-parallel-item:last-child::after {align-self: flex-start;width: 50%;}#sk-container-id-2 div.sk-parallel-item:only-child::after {width: 0;}#sk-container-id-2 div.sk-dashed-wrapped {border: 1px dashed gray;margin: 0 0.4em 0.5em 0.4em;box-sizing: border-box;padding-bottom: 0.4em;background-color: white;}#sk-container-id-2 div.sk-label label {font-family: monospace;font-weight: bold;display: inline-block;line-height: 1.2em;}#sk-container-id-2 div.sk-label-container {text-align: center;}#sk-container-id-2 div.sk-container {/* jupyter's `normalize.less` sets `[hidden] { display: none; }` but bootstrap.min.css set `[hidden] { display: none !important; }` so we also need the `!important` here to be able to override the default hidden behavior on the sphinx rendered scikit-learn.org. See: https://github.com/scikit-learn/scikit-learn/issues/21755 */display: inline-block !important;position: relative;}#sk-container-id-2 div.sk-text-repr-fallback {display: none;}</style><div id=\"sk-container-id-2\" class=\"sk-top-container\"><div class=\"sk-text-repr-fallback\"><pre>LinearRegression()</pre><b>In a Jupyter environment, please rerun this cell to show the HTML representation or trust the notebook. <br />On GitHub, the HTML representation is unable to render, please try loading this page with nbviewer.org.</b></div><div class=\"sk-container\" hidden><div class=\"sk-item\"><div class=\"sk-estimator sk-toggleable\"><input class=\"sk-toggleable__control sk-hidden--visually\" id=\"sk-estimator-id-2\" type=\"checkbox\" checked><label for=\"sk-estimator-id-2\" class=\"sk-toggleable__label sk-toggleable__label-arrow\">LinearRegression</label><div class=\"sk-toggleable__content\"><pre>LinearRegression()</pre></div></div></div></div></div>"
      ],
      "text/plain": [
       "LinearRegression()"
      ]
     },
     "execution_count": 26,
     "metadata": {},
     "output_type": "execute_result"
    }
   ],
   "source": [
    "reg.fit(x_train, y_train)"
   ]
  },
  {
   "cell_type": "code",
   "execution_count": 27,
   "id": "4f6c987a-dead-4226-9804-4c2f1550c326",
   "metadata": {},
   "outputs": [
    {
     "data": {
      "text/plain": [
       "0.4291979727359708"
      ]
     },
     "execution_count": 27,
     "metadata": {},
     "output_type": "execute_result"
    }
   ],
   "source": [
    "reg.score(x_test, y_test)"
   ]
  },
  {
   "cell_type": "markdown",
   "id": "267b709a-6416-46d7-8cd5-9bde20d1ccde",
   "metadata": {},
   "source": [
    "    The variability of the Price of the properties in Harare is explained 43% or 4 out of 10 times by the features, the R-squared is low for our acceptance as it needs to be at least 70%.\n",
    "\n",
    "    Moreso, in Zimbabwe there is a number of constituencies that are contributing to the data. These sections act as different markets as a house with the same features in Harare North or Bulawayo may have different prices. How to resolve this issue in the results? \n",
    "\n",
    "    Building a prediction model for each constituency is a good way to seprate the data from diluting the entire dataset for example from low property prices in Harare South or extremely high property prices in Harare North."
   ]
  },
  {
   "cell_type": "code",
   "execution_count": 28,
   "id": "3981dce7-111e-4e57-bab7-08ade2066bda",
   "metadata": {},
   "outputs": [
    {
     "data": {
      "text/plain": [
       "Constituency\n",
       "harare north           700\n",
       "harare west            603\n",
       "harare south           325\n",
       "harare high density    244\n",
       "harare east            200\n",
       "Name: count, dtype: int64"
      ]
     },
     "execution_count": 28,
     "metadata": {},
     "output_type": "execute_result"
    }
   ],
   "source": [
    "data['Constituency'].value_counts().head()"
   ]
  },
  {
   "cell_type": "markdown",
   "id": "ac94a2d9-828a-4328-b8dd-656bd4888de8",
   "metadata": {},
   "source": [
    "    The data above shows the number of properties contributed to the entire dataset by each constituency. Building a model for each of the above can help with a good predictor since the prediction is restricted to the data in the specified constituency."
   ]
  },
  {
   "cell_type": "markdown",
   "id": "a768c9b7-3df1-45db-8215-08d2d400d38d",
   "metadata": {},
   "source": [
    "<br>"
   ]
  },
  {
   "cell_type": "markdown",
   "id": "dcf17e42-ebd8-44cd-9a1a-7657e1ee4507",
   "metadata": {},
   "source": [
    "### Building a model for Harare North"
   ]
  },
  {
   "cell_type": "code",
   "execution_count": 29,
   "id": "601d3515-7764-48e9-84a0-499e1d070c1e",
   "metadata": {},
   "outputs": [],
   "source": [
    "harare_n =data[data['Constituency'] == 'harare north']"
   ]
  },
  {
   "cell_type": "code",
   "execution_count": 30,
   "id": "6aa50a45-b4bd-4ca1-8bbf-8d633a6ea734",
   "metadata": {},
   "outputs": [],
   "source": [
    "Y_harare_n = harare_n['Price'].reset_index(drop = True)\n",
    "X_harare_n = harare_n[['Beds', 'Baths', 'Area_Sqm']].reset_index(drop = True)"
   ]
  },
  {
   "cell_type": "code",
   "execution_count": 31,
   "id": "02682e04-40aa-4419-9507-8ebb8bfba3f7",
   "metadata": {},
   "outputs": [],
   "source": [
    "x_train, x_test, y_train, y_test = train_test_split(X_harare_n, Y_harare_n, test_size = 0.10, random_state = 2)"
   ]
  },
  {
   "cell_type": "code",
   "execution_count": 32,
   "id": "5219e446-23c8-46db-aad4-dfcb1919e106",
   "metadata": {},
   "outputs": [
    {
     "data": {
      "text/html": [
       "<style>#sk-container-id-3 {color: black;background-color: white;}#sk-container-id-3 pre{padding: 0;}#sk-container-id-3 div.sk-toggleable {background-color: white;}#sk-container-id-3 label.sk-toggleable__label {cursor: pointer;display: block;width: 100%;margin-bottom: 0;padding: 0.3em;box-sizing: border-box;text-align: center;}#sk-container-id-3 label.sk-toggleable__label-arrow:before {content: \"▸\";float: left;margin-right: 0.25em;color: #696969;}#sk-container-id-3 label.sk-toggleable__label-arrow:hover:before {color: black;}#sk-container-id-3 div.sk-estimator:hover label.sk-toggleable__label-arrow:before {color: black;}#sk-container-id-3 div.sk-toggleable__content {max-height: 0;max-width: 0;overflow: hidden;text-align: left;background-color: #f0f8ff;}#sk-container-id-3 div.sk-toggleable__content pre {margin: 0.2em;color: black;border-radius: 0.25em;background-color: #f0f8ff;}#sk-container-id-3 input.sk-toggleable__control:checked~div.sk-toggleable__content {max-height: 200px;max-width: 100%;overflow: auto;}#sk-container-id-3 input.sk-toggleable__control:checked~label.sk-toggleable__label-arrow:before {content: \"▾\";}#sk-container-id-3 div.sk-estimator input.sk-toggleable__control:checked~label.sk-toggleable__label {background-color: #d4ebff;}#sk-container-id-3 div.sk-label input.sk-toggleable__control:checked~label.sk-toggleable__label {background-color: #d4ebff;}#sk-container-id-3 input.sk-hidden--visually {border: 0;clip: rect(1px 1px 1px 1px);clip: rect(1px, 1px, 1px, 1px);height: 1px;margin: -1px;overflow: hidden;padding: 0;position: absolute;width: 1px;}#sk-container-id-3 div.sk-estimator {font-family: monospace;background-color: #f0f8ff;border: 1px dotted black;border-radius: 0.25em;box-sizing: border-box;margin-bottom: 0.5em;}#sk-container-id-3 div.sk-estimator:hover {background-color: #d4ebff;}#sk-container-id-3 div.sk-parallel-item::after {content: \"\";width: 100%;border-bottom: 1px solid gray;flex-grow: 1;}#sk-container-id-3 div.sk-label:hover label.sk-toggleable__label {background-color: #d4ebff;}#sk-container-id-3 div.sk-serial::before {content: \"\";position: absolute;border-left: 1px solid gray;box-sizing: border-box;top: 0;bottom: 0;left: 50%;z-index: 0;}#sk-container-id-3 div.sk-serial {display: flex;flex-direction: column;align-items: center;background-color: white;padding-right: 0.2em;padding-left: 0.2em;position: relative;}#sk-container-id-3 div.sk-item {position: relative;z-index: 1;}#sk-container-id-3 div.sk-parallel {display: flex;align-items: stretch;justify-content: center;background-color: white;position: relative;}#sk-container-id-3 div.sk-item::before, #sk-container-id-3 div.sk-parallel-item::before {content: \"\";position: absolute;border-left: 1px solid gray;box-sizing: border-box;top: 0;bottom: 0;left: 50%;z-index: -1;}#sk-container-id-3 div.sk-parallel-item {display: flex;flex-direction: column;z-index: 1;position: relative;background-color: white;}#sk-container-id-3 div.sk-parallel-item:first-child::after {align-self: flex-end;width: 50%;}#sk-container-id-3 div.sk-parallel-item:last-child::after {align-self: flex-start;width: 50%;}#sk-container-id-3 div.sk-parallel-item:only-child::after {width: 0;}#sk-container-id-3 div.sk-dashed-wrapped {border: 1px dashed gray;margin: 0 0.4em 0.5em 0.4em;box-sizing: border-box;padding-bottom: 0.4em;background-color: white;}#sk-container-id-3 div.sk-label label {font-family: monospace;font-weight: bold;display: inline-block;line-height: 1.2em;}#sk-container-id-3 div.sk-label-container {text-align: center;}#sk-container-id-3 div.sk-container {/* jupyter's `normalize.less` sets `[hidden] { display: none; }` but bootstrap.min.css set `[hidden] { display: none !important; }` so we also need the `!important` here to be able to override the default hidden behavior on the sphinx rendered scikit-learn.org. See: https://github.com/scikit-learn/scikit-learn/issues/21755 */display: inline-block !important;position: relative;}#sk-container-id-3 div.sk-text-repr-fallback {display: none;}</style><div id=\"sk-container-id-3\" class=\"sk-top-container\"><div class=\"sk-text-repr-fallback\"><pre>LinearRegression()</pre><b>In a Jupyter environment, please rerun this cell to show the HTML representation or trust the notebook. <br />On GitHub, the HTML representation is unable to render, please try loading this page with nbviewer.org.</b></div><div class=\"sk-container\" hidden><div class=\"sk-item\"><div class=\"sk-estimator sk-toggleable\"><input class=\"sk-toggleable__control sk-hidden--visually\" id=\"sk-estimator-id-3\" type=\"checkbox\" checked><label for=\"sk-estimator-id-3\" class=\"sk-toggleable__label sk-toggleable__label-arrow\">LinearRegression</label><div class=\"sk-toggleable__content\"><pre>LinearRegression()</pre></div></div></div></div></div>"
      ],
      "text/plain": [
       "LinearRegression()"
      ]
     },
     "execution_count": 32,
     "metadata": {},
     "output_type": "execute_result"
    }
   ],
   "source": [
    "reg.fit(x_train, y_train)"
   ]
  },
  {
   "cell_type": "code",
   "execution_count": 33,
   "id": "168f85a1-159a-47f9-99b0-305f76b92bba",
   "metadata": {},
   "outputs": [
    {
     "data": {
      "text/plain": [
       "0.4395392920855"
      ]
     },
     "execution_count": 33,
     "metadata": {},
     "output_type": "execute_result"
    }
   ],
   "source": [
    "reg.score(x_test, y_test)"
   ]
  },
  {
   "cell_type": "markdown",
   "id": "6bf675c5-ce39-472b-b113-9fc1bd9b8415",
   "metadata": {},
   "source": [
    "    The Harare North prediction model performs better than the initially built model, however it does not perform to my satisfaction thus below 50% accuracy whereas 75% is the least acceptable R-squared in this project."
   ]
  },
  {
   "cell_type": "markdown",
   "id": "12e981b5-25e5-41de-818f-5ff3918498f1",
   "metadata": {},
   "source": [
    "<br>"
   ]
  },
  {
   "cell_type": "markdown",
   "id": "a2b32d03-23ad-4c92-9418-6ea31e2864fb",
   "metadata": {},
   "source": [
    "#### Introducing the Gradient Boost for Harare North prediciton model"
   ]
  },
  {
   "cell_type": "code",
   "execution_count": 34,
   "id": "4682df47-7359-4e8a-bd31-ff6349bf79f8",
   "metadata": {},
   "outputs": [],
   "source": [
    "# Gradient descent boosting \n",
    "\n",
    "from sklearn import ensemble\n",
    "clf = ensemble.GradientBoostingRegressor(n_estimators = 100, max_depth = 5, min_samples_split = 2, learning_rate = 0.1, loss = 'squared_error')"
   ]
  },
  {
   "cell_type": "code",
   "execution_count": 35,
   "id": "313b32bf-e8af-425a-8ff0-ac8a2de26830",
   "metadata": {},
   "outputs": [
    {
     "data": {
      "text/html": [
       "<style>#sk-container-id-4 {color: black;background-color: white;}#sk-container-id-4 pre{padding: 0;}#sk-container-id-4 div.sk-toggleable {background-color: white;}#sk-container-id-4 label.sk-toggleable__label {cursor: pointer;display: block;width: 100%;margin-bottom: 0;padding: 0.3em;box-sizing: border-box;text-align: center;}#sk-container-id-4 label.sk-toggleable__label-arrow:before {content: \"▸\";float: left;margin-right: 0.25em;color: #696969;}#sk-container-id-4 label.sk-toggleable__label-arrow:hover:before {color: black;}#sk-container-id-4 div.sk-estimator:hover label.sk-toggleable__label-arrow:before {color: black;}#sk-container-id-4 div.sk-toggleable__content {max-height: 0;max-width: 0;overflow: hidden;text-align: left;background-color: #f0f8ff;}#sk-container-id-4 div.sk-toggleable__content pre {margin: 0.2em;color: black;border-radius: 0.25em;background-color: #f0f8ff;}#sk-container-id-4 input.sk-toggleable__control:checked~div.sk-toggleable__content {max-height: 200px;max-width: 100%;overflow: auto;}#sk-container-id-4 input.sk-toggleable__control:checked~label.sk-toggleable__label-arrow:before {content: \"▾\";}#sk-container-id-4 div.sk-estimator input.sk-toggleable__control:checked~label.sk-toggleable__label {background-color: #d4ebff;}#sk-container-id-4 div.sk-label input.sk-toggleable__control:checked~label.sk-toggleable__label {background-color: #d4ebff;}#sk-container-id-4 input.sk-hidden--visually {border: 0;clip: rect(1px 1px 1px 1px);clip: rect(1px, 1px, 1px, 1px);height: 1px;margin: -1px;overflow: hidden;padding: 0;position: absolute;width: 1px;}#sk-container-id-4 div.sk-estimator {font-family: monospace;background-color: #f0f8ff;border: 1px dotted black;border-radius: 0.25em;box-sizing: border-box;margin-bottom: 0.5em;}#sk-container-id-4 div.sk-estimator:hover {background-color: #d4ebff;}#sk-container-id-4 div.sk-parallel-item::after {content: \"\";width: 100%;border-bottom: 1px solid gray;flex-grow: 1;}#sk-container-id-4 div.sk-label:hover label.sk-toggleable__label {background-color: #d4ebff;}#sk-container-id-4 div.sk-serial::before {content: \"\";position: absolute;border-left: 1px solid gray;box-sizing: border-box;top: 0;bottom: 0;left: 50%;z-index: 0;}#sk-container-id-4 div.sk-serial {display: flex;flex-direction: column;align-items: center;background-color: white;padding-right: 0.2em;padding-left: 0.2em;position: relative;}#sk-container-id-4 div.sk-item {position: relative;z-index: 1;}#sk-container-id-4 div.sk-parallel {display: flex;align-items: stretch;justify-content: center;background-color: white;position: relative;}#sk-container-id-4 div.sk-item::before, #sk-container-id-4 div.sk-parallel-item::before {content: \"\";position: absolute;border-left: 1px solid gray;box-sizing: border-box;top: 0;bottom: 0;left: 50%;z-index: -1;}#sk-container-id-4 div.sk-parallel-item {display: flex;flex-direction: column;z-index: 1;position: relative;background-color: white;}#sk-container-id-4 div.sk-parallel-item:first-child::after {align-self: flex-end;width: 50%;}#sk-container-id-4 div.sk-parallel-item:last-child::after {align-self: flex-start;width: 50%;}#sk-container-id-4 div.sk-parallel-item:only-child::after {width: 0;}#sk-container-id-4 div.sk-dashed-wrapped {border: 1px dashed gray;margin: 0 0.4em 0.5em 0.4em;box-sizing: border-box;padding-bottom: 0.4em;background-color: white;}#sk-container-id-4 div.sk-label label {font-family: monospace;font-weight: bold;display: inline-block;line-height: 1.2em;}#sk-container-id-4 div.sk-label-container {text-align: center;}#sk-container-id-4 div.sk-container {/* jupyter's `normalize.less` sets `[hidden] { display: none; }` but bootstrap.min.css set `[hidden] { display: none !important; }` so we also need the `!important` here to be able to override the default hidden behavior on the sphinx rendered scikit-learn.org. See: https://github.com/scikit-learn/scikit-learn/issues/21755 */display: inline-block !important;position: relative;}#sk-container-id-4 div.sk-text-repr-fallback {display: none;}</style><div id=\"sk-container-id-4\" class=\"sk-top-container\"><div class=\"sk-text-repr-fallback\"><pre>GradientBoostingRegressor(max_depth=5)</pre><b>In a Jupyter environment, please rerun this cell to show the HTML representation or trust the notebook. <br />On GitHub, the HTML representation is unable to render, please try loading this page with nbviewer.org.</b></div><div class=\"sk-container\" hidden><div class=\"sk-item\"><div class=\"sk-estimator sk-toggleable\"><input class=\"sk-toggleable__control sk-hidden--visually\" id=\"sk-estimator-id-4\" type=\"checkbox\" checked><label for=\"sk-estimator-id-4\" class=\"sk-toggleable__label sk-toggleable__label-arrow\">GradientBoostingRegressor</label><div class=\"sk-toggleable__content\"><pre>GradientBoostingRegressor(max_depth=5)</pre></div></div></div></div></div>"
      ],
      "text/plain": [
       "GradientBoostingRegressor(max_depth=5)"
      ]
     },
     "execution_count": 35,
     "metadata": {},
     "output_type": "execute_result"
    }
   ],
   "source": [
    "clf.fit(x_train, y_train)"
   ]
  },
  {
   "cell_type": "code",
   "execution_count": 36,
   "id": "0e6a5dda-32e8-4e00-82a5-45adec13a502",
   "metadata": {},
   "outputs": [
    {
     "data": {
      "text/plain": [
       "0.7845081712763884"
      ]
     },
     "execution_count": 36,
     "metadata": {},
     "output_type": "execute_result"
    }
   ],
   "source": [
    "clf.score(x_test, y_test)"
   ]
  },
  {
   "cell_type": "markdown",
   "id": "9508374f-a657-4d93-a9ff-93f85c483470",
   "metadata": {},
   "source": [
    "    After introducing the gradient boost to tune the model perfomance the model improved in its prediction accuracy to 78%, thus much of the variability in the Price is explained by the features which is the number of beds, bathrooms and area in square meters."
   ]
  },
  {
   "cell_type": "code",
   "execution_count": 38,
   "id": "5cc03e0e-4dc5-488f-826e-53c270ef3d7c",
   "metadata": {},
   "outputs": [
    {
     "name": "stderr",
     "output_type": "stream",
     "text": [
      "C:\\Users\\Windows 11\\anaconda3\\Lib\\site-packages\\sklearn\\base.py:439: UserWarning: X does not have valid feature names, but GradientBoostingRegressor was fitted with feature names\n",
      "  warnings.warn(\n"
     ]
    },
    {
     "data": {
      "text/plain": [
       "array([286907.48649164])"
      ]
     },
     "execution_count": 38,
     "metadata": {},
     "output_type": "execute_result"
    }
   ],
   "source": [
    "# Predicting the Price of a property in Harare North\n",
    "\n",
    "features = [[2,2,400]]\n",
    "clf.predict(features)"
   ]
  },
  {
   "cell_type": "markdown",
   "id": "f1c5dcb3-2e1a-426e-b265-50b09f0856b9",
   "metadata": {},
   "source": [
    "    The Harare North Model predicts that a house with 2 bedsm 2 bathrooms under 400 square meters will cost US$286,907"
   ]
  },
  {
   "cell_type": "code",
   "execution_count": 39,
   "id": "a2499f3f-fdfc-4986-afdf-17d979b5d0ca",
   "metadata": {},
   "outputs": [],
   "source": [
    "data.to_csv('housing_ml.csv')"
   ]
  },
  {
   "cell_type": "code",
   "execution_count": null,
   "id": "614c38f6-b2c4-46e2-aaf9-0fd7a9f72363",
   "metadata": {},
   "outputs": [],
   "source": []
  }
 ],
 "metadata": {
  "kernelspec": {
   "display_name": "Python 3 (ipykernel)",
   "language": "python",
   "name": "python3"
  },
  "language_info": {
   "codemirror_mode": {
    "name": "ipython",
    "version": 3
   },
   "file_extension": ".py",
   "mimetype": "text/x-python",
   "name": "python",
   "nbconvert_exporter": "python",
   "pygments_lexer": "ipython3",
   "version": "3.11.7"
  }
 },
 "nbformat": 4,
 "nbformat_minor": 5
}
